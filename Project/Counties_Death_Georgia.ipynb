{
 "cells": [
  {
   "cell_type": "markdown",
   "metadata": {},
   "source": [
    "# Deaths in Georgia by Covid-19"
   ]
  },
  {
   "cell_type": "code",
   "execution_count": 39,
   "metadata": {},
   "outputs": [],
   "source": [
    "import matplotlib.pyplot as plt\n",
    "import pandas as pd\n",
    "import itertools\n",
    "df = pd.read_csv('county_cases.csv')"
   ]
  },
  {
   "cell_type": "markdown",
   "metadata": {},
   "source": [
    "## deaths of counties in Georgia"
   ]
  },
  {
   "cell_type": "code",
   "execution_count": 35,
   "metadata": {},
   "outputs": [
    {
     "data": {
      "text/plain": [
       "{'Fulton': 2118,\n",
       " 'Gwinnett': 1763,\n",
       " 'Cobb': 1665,\n",
       " 'DeKalb': 1567,\n",
       " 'Non-GA Resident/Unknown State': 977,\n",
       " 'Clayton': 905,\n",
       " 'Chatham': 810,\n",
       " 'Hall': 796,\n",
       " 'Richmond': 725,\n",
       " 'Muscogee': 716,\n",
       " 'Bibb': 698,\n",
       " 'Henry': 631,\n",
       " 'Cherokee': 586,\n",
       " 'Dougherty': 452,\n",
       " 'Coweta': 428,\n",
       " 'Floyd': 419,\n",
       " 'Newton': 406,\n",
       " 'Whitfield': 401,\n",
       " 'Walton': 390,\n",
       " 'Bartow': 389,\n",
       " 'Forsyth': 382,\n",
       " 'Glynn': 360,\n",
       " 'Spalding': 360,\n",
       " 'Houston': 334,\n",
       " 'Douglas': 324,\n",
       " 'Troup': 319,\n",
       " 'Columbia': 318,\n",
       " 'Paulding': 316,\n",
       " 'Rockdale': 294,\n",
       " 'Lowndes': 281,\n",
       " 'Fayette': 278,\n",
       " 'Jackson': 272,\n",
       " 'Barrow': 246,\n",
       " 'Laurens': 243,\n",
       " 'Habersham': 240,\n",
       " 'Gordon': 233,\n",
       " 'Coffee': 229,\n",
       " 'Ware': 222,\n",
       " 'Clarke': 220,\n",
       " 'Baldwin': 200,\n",
       " 'Walker': 194,\n",
       " 'Carroll': 185,\n",
       " 'Thomas': 180,\n",
       " 'Wayne': 180,\n",
       " 'Upson': 173,\n",
       " 'Colquitt': 172,\n",
       " 'Toombs': 172,\n",
       " 'Murray': 171,\n",
       " 'Effingham': 168,\n",
       " 'Polk': 164,\n",
       " 'Tift': 164,\n",
       " 'Sumter': 155,\n",
       " 'Gilmer': 150,\n",
       " 'Butts': 143,\n",
       " 'White': 143,\n",
       " 'Union': 142,\n",
       " 'Monroe': 136,\n",
       " 'Stephens': 134,\n",
       " 'Fannin': 132,\n",
       " 'Pickens': 128,\n",
       " 'Catoosa': 127,\n",
       " 'Meriwether': 121,\n",
       " 'Chattooga': 117,\n",
       " 'Appling': 113,\n",
       " 'Lumpkin': 112,\n",
       " 'Bulloch': 109,\n",
       " 'Peach': 109,\n",
       " 'Liberty': 106,\n",
       " 'Mitchell': 104,\n",
       " 'Pierce': 103,\n",
       " 'Camden': 102,\n",
       " 'Harris': 100,\n",
       " 'Putnam': 100,\n",
       " 'Jones': 99,\n",
       " 'Dawson': 97,\n",
       " 'Lamar': 97,\n",
       " 'Madison': 97,\n",
       " 'Oconee': 95,\n",
       " 'Decatur': 94,\n",
       " 'Worth': 94,\n",
       " 'Lee': 93,\n",
       " 'Brantley': 90,\n",
       " 'Towns': 89,\n",
       " 'Banks': 85,\n",
       " 'Grady': 83,\n",
       " 'Hancock': 82,\n",
       " 'Jefferson': 82,\n",
       " 'Tattnall': 82,\n",
       " 'Elbert': 81,\n",
       " 'Rabun': 81,\n",
       " 'Washington': 81,\n",
       " 'Emanuel': 80,\n",
       " 'Franklin': 80,\n",
       " 'Bryan': 75,\n",
       " 'Greene': 75,\n",
       " 'McDuffie': 75,\n",
       " 'Ben Hill': 74,\n",
       " 'Pike': 73,\n",
       " 'Crisp': 71,\n",
       " 'Dodge': 71,\n",
       " 'Bacon': 66,\n",
       " 'Brooks': 66,\n",
       " 'Burke': 65,\n",
       " 'Haralson': 64,\n",
       " 'Terrell': 63,\n",
       " 'Hart': 62,\n",
       " 'Telfair': 59,\n",
       " 'Berrien': 58,\n",
       " 'Cook': 58,\n",
       " 'Morgan': 58,\n",
       " 'Johnson': 57,\n",
       " 'Early': 55,\n",
       " 'Twiggs': 55,\n",
       " 'Candler': 54,\n",
       " 'Oglethorpe': 53,\n",
       " 'Montgomery': 49,\n",
       " 'Wilkinson': 48,\n",
       " 'Charlton': 47,\n",
       " 'Jeff Davis': 47,\n",
       " 'Pulaski': 47,\n",
       " 'Treutlen': 47,\n",
       " 'Turner': 47,\n",
       " 'Crawford': 46,\n",
       " 'Bleckley': 45,\n",
       " 'Jenkins': 45,\n",
       " 'Randolph': 43,\n",
       " 'Macon': 42,\n",
       " 'Marion': 42,\n",
       " 'Atkinson': 41,\n",
       " 'Evans': 41,\n",
       " 'Taylor': 41,\n",
       " 'Clinch': 40,\n",
       " 'Dooly': 40,\n",
       " 'Jasper': 39,\n",
       " 'Wilkes': 38,\n",
       " 'Screven': 36,\n",
       " 'Wheeler': 35,\n",
       " 'Heard': 34,\n",
       " 'Wilcox': 34,\n",
       " 'McIntosh': 33,\n",
       " 'Stewart': 32,\n",
       " 'Talbot': 31,\n",
       " 'Lincoln': 29,\n",
       " 'Long': 26,\n",
       " 'Seminole': 26,\n",
       " 'Dade': 25,\n",
       " 'Irwin': 25,\n",
       " 'Warren': 23,\n",
       " 'Calhoun': 21,\n",
       " 'Miller': 19,\n",
       " 'Lanier': 18,\n",
       " 'Chattahoochee': 17,\n",
       " 'Baker': 14,\n",
       " 'Schley': 11,\n",
       " 'Glascock': 8,\n",
       " 'Webster': 8,\n",
       " 'Clay': 6,\n",
       " 'Echols': 6,\n",
       " 'Unknown': 4,\n",
       " 'Quitman': 3,\n",
       " 'Taliaferro': 3}"
      ]
     },
     "execution_count": 35,
     "metadata": {},
     "output_type": "execute_result"
    }
   ],
   "source": [
    "county_names = df['county_name']\n",
    "county_deaths = df['deaths']\n",
    "data = dict()\n",
    "for ind in df.index:\n",
    "    data[df['county_name'][ind]] = county_deaths[ind]\n",
    "data = dict(sorted(data.items(), key = lambda item: item[1], reverse = True))\n",
    "data"
   ]
  },
  {
   "cell_type": "markdown",
   "metadata": {},
   "source": [
    "## top 5 counties of deaths in Georgia"
   ]
  },
  {
   "cell_type": "code",
   "execution_count": 59,
   "metadata": {},
   "outputs": [
    {
     "data": {
      "image/png": "[encoded data removed]",
      "text/plain": [
       "<Figure size 720x216 with 1 Axes>"
      ]
     },
     "metadata": {
      "needs_background": "light"
     },
     "output_type": "display_data"
    }
   ],
   "source": [
    "top1 = dict(itertools.islice(data.items(), 5))\n",
    "plt.figure(figsize = (10, 3))\n",
    "c = ['red', 'orange', 'yellow', 'green', 'blue']\n",
    "plt.bar(top1.keys(), top1.values(), width = 0.3, align = 'center', color = c)\n",
    "plt.show()"
   ]
  },
  {
   "cell_type": "markdown",
   "metadata": {},
   "source": [
    "## top 5 counties of death rate in Georgia"
   ]
  },
  {
   "cell_type": "code",
   "execution_count": 58,
   "metadata": {},
   "outputs": [
    {
     "data": {
      "image/png": "[encoded data removed]",
      "text/plain": [
       "<Figure size 720x216 with 1 Axes>"
      ]
     },
     "metadata": {
      "needs_background": "light"
     },
     "output_type": "display_data"
    }
   ],
   "source": [
    "county_names = df['county_name']\n",
    "county_deathrate = df['death rate']\n",
    "data2 = dict()\n",
    "for ind in df.index:\n",
    "    data2[df['county_name'][ind]] = county_deathrate[ind]\n",
    "data2 = dict(sorted(data2.items(), key = lambda item: item[1], reverse = True))\n",
    "top2 = dict(itertools.islice(data2.items(), 5))\n",
    "plt.figure(figsize = (10, 3))\n",
    "plt.bar(top2.keys(), top2.values(), width = 0.3, align = 'center', color = c)\n",
    "plt.show()"
   ]
  }
 ],
 "metadata": {
  "kernelspec": {
   "display_name": "Python 3",
   "language": "python",
   "name": "python3"
  },
  "language_info": {
   "codemirror_mode": {
    "name": "ipython",
    "version": 3
   },
   "file_extension": ".py",
   "mimetype": "text/x-python",
   "name": "python",
   "nbconvert_exporter": "python",
   "pygments_lexer": "ipython3",
   "version": "3.8.5"
  }
 },
 "nbformat": 4,
 "nbformat_minor": 4
}
